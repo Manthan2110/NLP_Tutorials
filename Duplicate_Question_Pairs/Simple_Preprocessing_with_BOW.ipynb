{
 "cells": [
  {
   "cell_type": "code",
   "execution_count": 1,
   "id": "ab9ed3b5",
   "metadata": {},
   "outputs": [],
   "source": [
    "import warnings\n",
    "warnings.filterwarnings('ignore')"
   ]
  },
  {
   "cell_type": "code",
   "execution_count": 2,
   "id": "d6a69776",
   "metadata": {},
   "outputs": [],
   "source": [
    "import numpy as np\n",
    "import pandas as pd\n",
    "import seaborn as sns\n",
    "import matplotlib.pyplot as plt"
   ]
  },
  {
   "cell_type": "code",
   "execution_count": 3,
   "id": "c7548c1d",
   "metadata": {},
   "outputs": [],
   "source": [
    "df = pd.read_csv('train.csv')"
   ]
  },
  {
   "cell_type": "code",
   "execution_count": 4,
   "id": "5d4aec3a",
   "metadata": {},
   "outputs": [
    {
     "data": {
      "text/html": [
       "<div>\n",
       "<style scoped>\n",
       "    .dataframe tbody tr th:only-of-type {\n",
       "        vertical-align: middle;\n",
       "    }\n",
       "\n",
       "    .dataframe tbody tr th {\n",
       "        vertical-align: top;\n",
       "    }\n",
       "\n",
       "    .dataframe thead th {\n",
       "        text-align: right;\n",
       "    }\n",
       "</style>\n",
       "<table border=\"1\" class=\"dataframe\">\n",
       "  <thead>\n",
       "    <tr style=\"text-align: right;\">\n",
       "      <th></th>\n",
       "      <th>id</th>\n",
       "      <th>qid1</th>\n",
       "      <th>qid2</th>\n",
       "      <th>question1</th>\n",
       "      <th>question2</th>\n",
       "      <th>is_duplicate</th>\n",
       "    </tr>\n",
       "  </thead>\n",
       "  <tbody>\n",
       "    <tr>\n",
       "      <th>2036</th>\n",
       "      <td>2036</td>\n",
       "      <td>4051</td>\n",
       "      <td>4052</td>\n",
       "      <td>What can I do to practice my English?</td>\n",
       "      <td>How can I continue to improve my English?</td>\n",
       "      <td>1</td>\n",
       "    </tr>\n",
       "    <tr>\n",
       "      <th>48583</th>\n",
       "      <td>48583</td>\n",
       "      <td>32781</td>\n",
       "      <td>37441</td>\n",
       "      <td>How can I make money from YouTube?</td>\n",
       "      <td>How can I earn money in YouTube?</td>\n",
       "      <td>1</td>\n",
       "    </tr>\n",
       "    <tr>\n",
       "      <th>66144</th>\n",
       "      <td>66144</td>\n",
       "      <td>114692</td>\n",
       "      <td>114693</td>\n",
       "      <td>Is it true that there are 7 other people in th...</td>\n",
       "      <td>How do they know exactly how many people are i...</td>\n",
       "      <td>0</td>\n",
       "    </tr>\n",
       "    <tr>\n",
       "      <th>60038</th>\n",
       "      <td>60038</td>\n",
       "      <td>52331</td>\n",
       "      <td>1932</td>\n",
       "      <td>What is the trick to maintaining long distance...</td>\n",
       "      <td>Do long distance relationships work?</td>\n",
       "      <td>1</td>\n",
       "    </tr>\n",
       "    <tr>\n",
       "      <th>224349</th>\n",
       "      <td>224349</td>\n",
       "      <td>4235</td>\n",
       "      <td>332418</td>\n",
       "      <td>What is it like to live and work in Dubai?</td>\n",
       "      <td>What are the cons of living/working in Dubai?</td>\n",
       "      <td>0</td>\n",
       "    </tr>\n",
       "    <tr>\n",
       "      <th>296250</th>\n",
       "      <td>296250</td>\n",
       "      <td>418427</td>\n",
       "      <td>418428</td>\n",
       "      <td>What does Gibbons v. Ogden establish?</td>\n",
       "      <td>What was Gibbons v. Ogden?</td>\n",
       "      <td>1</td>\n",
       "    </tr>\n",
       "    <tr>\n",
       "      <th>174539</th>\n",
       "      <td>174539</td>\n",
       "      <td>94104</td>\n",
       "      <td>14215</td>\n",
       "      <td>What is/are your failure story?</td>\n",
       "      <td>What's your failure stories?</td>\n",
       "      <td>1</td>\n",
       "    </tr>\n",
       "    <tr>\n",
       "      <th>102680</th>\n",
       "      <td>102680</td>\n",
       "      <td>169860</td>\n",
       "      <td>169861</td>\n",
       "      <td>What are some things that monkeys like to do?</td>\n",
       "      <td>What are some things monkeys do all day?</td>\n",
       "      <td>0</td>\n",
       "    </tr>\n",
       "    <tr>\n",
       "      <th>376884</th>\n",
       "      <td>376884</td>\n",
       "      <td>177167</td>\n",
       "      <td>405330</td>\n",
       "      <td>Is there some way to easily download all attac...</td>\n",
       "      <td>Is there a way to extract (download) all photo...</td>\n",
       "      <td>0</td>\n",
       "    </tr>\n",
       "    <tr>\n",
       "      <th>241984</th>\n",
       "      <td>241984</td>\n",
       "      <td>108065</td>\n",
       "      <td>354099</td>\n",
       "      <td>Why do some Americans think they are the no.1 ...</td>\n",
       "      <td>Why do some Americans think America has to be ...</td>\n",
       "      <td>1</td>\n",
       "    </tr>\n",
       "  </tbody>\n",
       "</table>\n",
       "</div>"
      ],
      "text/plain": [
       "            id    qid1    qid2  \\\n",
       "2036      2036    4051    4052   \n",
       "48583    48583   32781   37441   \n",
       "66144    66144  114692  114693   \n",
       "60038    60038   52331    1932   \n",
       "224349  224349    4235  332418   \n",
       "296250  296250  418427  418428   \n",
       "174539  174539   94104   14215   \n",
       "102680  102680  169860  169861   \n",
       "376884  376884  177167  405330   \n",
       "241984  241984  108065  354099   \n",
       "\n",
       "                                                question1  \\\n",
       "2036                What can I do to practice my English?   \n",
       "48583                  How can I make money from YouTube?   \n",
       "66144   Is it true that there are 7 other people in th...   \n",
       "60038   What is the trick to maintaining long distance...   \n",
       "224349         What is it like to live and work in Dubai?   \n",
       "296250              What does Gibbons v. Ogden establish?   \n",
       "174539                    What is/are your failure story?   \n",
       "102680      What are some things that monkeys like to do?   \n",
       "376884  Is there some way to easily download all attac...   \n",
       "241984  Why do some Americans think they are the no.1 ...   \n",
       "\n",
       "                                                question2  is_duplicate  \n",
       "2036            How can I continue to improve my English?             1  \n",
       "48583                    How can I earn money in YouTube?             1  \n",
       "66144   How do they know exactly how many people are i...             0  \n",
       "60038                Do long distance relationships work?             1  \n",
       "224349      What are the cons of living/working in Dubai?             0  \n",
       "296250                         What was Gibbons v. Ogden?             1  \n",
       "174539                       What's your failure stories?             1  \n",
       "102680           What are some things monkeys do all day?             0  \n",
       "376884  Is there a way to extract (download) all photo...             0  \n",
       "241984  Why do some Americans think America has to be ...             1  "
      ]
     },
     "execution_count": 4,
     "metadata": {},
     "output_type": "execute_result"
    }
   ],
   "source": [
    "df.sample(10)"
   ]
  },
  {
   "cell_type": "code",
   "execution_count": 5,
   "id": "b178bcab",
   "metadata": {},
   "outputs": [],
   "source": [
    "new_df = df.sample(40000, random_state=42)"
   ]
  },
  {
   "cell_type": "code",
   "execution_count": 6,
   "id": "ddb7ad01",
   "metadata": {},
   "outputs": [
    {
     "data": {
      "text/plain": [
       "id              0\n",
       "qid1            0\n",
       "qid2            0\n",
       "question1       0\n",
       "question2       0\n",
       "is_duplicate    0\n",
       "dtype: int64"
      ]
     },
     "execution_count": 6,
     "metadata": {},
     "output_type": "execute_result"
    }
   ],
   "source": [
    "new_df.isnull().sum()"
   ]
  },
  {
   "cell_type": "code",
   "execution_count": 7,
   "id": "f75a8b03",
   "metadata": {},
   "outputs": [
    {
     "data": {
      "text/plain": [
       "0"
      ]
     },
     "execution_count": 7,
     "metadata": {},
     "output_type": "execute_result"
    }
   ],
   "source": [
    "new_df.duplicated().sum()"
   ]
  },
  {
   "cell_type": "code",
   "execution_count": 8,
   "id": "974f3839",
   "metadata": {},
   "outputs": [
    {
     "data": {
      "text/html": [
       "<div>\n",
       "<style scoped>\n",
       "    .dataframe tbody tr th:only-of-type {\n",
       "        vertical-align: middle;\n",
       "    }\n",
       "\n",
       "    .dataframe tbody tr th {\n",
       "        vertical-align: top;\n",
       "    }\n",
       "\n",
       "    .dataframe thead th {\n",
       "        text-align: right;\n",
       "    }\n",
       "</style>\n",
       "<table border=\"1\" class=\"dataframe\">\n",
       "  <thead>\n",
       "    <tr style=\"text-align: right;\">\n",
       "      <th></th>\n",
       "      <th>id</th>\n",
       "      <th>qid1</th>\n",
       "      <th>qid2</th>\n",
       "      <th>question1</th>\n",
       "      <th>question2</th>\n",
       "      <th>is_duplicate</th>\n",
       "    </tr>\n",
       "  </thead>\n",
       "  <tbody>\n",
       "    <tr>\n",
       "      <th>31500</th>\n",
       "      <td>31500</td>\n",
       "      <td>58072</td>\n",
       "      <td>58073</td>\n",
       "      <td>Why did Rangers sack Scot Symon?</td>\n",
       "      <td>Why Indians want Kashmiris to be solely depend...</td>\n",
       "      <td>0</td>\n",
       "    </tr>\n",
       "    <tr>\n",
       "      <th>270887</th>\n",
       "      <td>270887</td>\n",
       "      <td>54575</td>\n",
       "      <td>10365</td>\n",
       "      <td>If universe expands without limit and dark/vac...</td>\n",
       "      <td>If universe expands and more space-time, dark/...</td>\n",
       "      <td>1</td>\n",
       "    </tr>\n",
       "    <tr>\n",
       "      <th>384362</th>\n",
       "      <td>384362</td>\n",
       "      <td>516388</td>\n",
       "      <td>516389</td>\n",
       "      <td>What are some good nutrition tips to keep a he...</td>\n",
       "      <td>What are some good nutrition tips to keep a he...</td>\n",
       "      <td>0</td>\n",
       "    </tr>\n",
       "    <tr>\n",
       "      <th>72809</th>\n",
       "      <td>72809</td>\n",
       "      <td>125038</td>\n",
       "      <td>125039</td>\n",
       "      <td>If I'm near-sighted, will keeping my glasses o...</td>\n",
       "      <td>Why does my computer/smartphone/TV screen hurt...</td>\n",
       "      <td>0</td>\n",
       "    </tr>\n",
       "    <tr>\n",
       "      <th>147054</th>\n",
       "      <td>147054</td>\n",
       "      <td>124558</td>\n",
       "      <td>6851</td>\n",
       "      <td>Why do we need to reading books?</td>\n",
       "      <td>Why should we read more books?</td>\n",
       "      <td>1</td>\n",
       "    </tr>\n",
       "  </tbody>\n",
       "</table>\n",
       "</div>"
      ],
      "text/plain": [
       "            id    qid1    qid2  \\\n",
       "31500    31500   58072   58073   \n",
       "270887  270887   54575   10365   \n",
       "384362  384362  516388  516389   \n",
       "72809    72809  125038  125039   \n",
       "147054  147054  124558    6851   \n",
       "\n",
       "                                                question1  \\\n",
       "31500                    Why did Rangers sack Scot Symon?   \n",
       "270887  If universe expands without limit and dark/vac...   \n",
       "384362  What are some good nutrition tips to keep a he...   \n",
       "72809   If I'm near-sighted, will keeping my glasses o...   \n",
       "147054                   Why do we need to reading books?   \n",
       "\n",
       "                                                question2  is_duplicate  \n",
       "31500   Why Indians want Kashmiris to be solely depend...             0  \n",
       "270887  If universe expands and more space-time, dark/...             1  \n",
       "384362  What are some good nutrition tips to keep a he...             0  \n",
       "72809   Why does my computer/smartphone/TV screen hurt...             0  \n",
       "147054                     Why should we read more books?             1  "
      ]
     },
     "execution_count": 8,
     "metadata": {},
     "output_type": "execute_result"
    }
   ],
   "source": [
    "new_df.head()"
   ]
  },
  {
   "cell_type": "markdown",
   "id": "0329f6e6",
   "metadata": {},
   "source": [
    "### EDA"
   ]
  },
  {
   "cell_type": "code",
   "execution_count": 9,
   "id": "9c32d8ba",
   "metadata": {},
   "outputs": [
    {
     "name": "stdout",
     "output_type": "stream",
     "text": [
      "is_duplicate\n",
      "0    25163\n",
      "1    14837\n",
      "Name: count, dtype: int64\n",
      "is_duplicate\n",
      "0    62.9075\n",
      "1    37.0925\n",
      "Name: count, dtype: float64\n"
     ]
    },
    {
     "data": {
      "text/plain": [
       "<Axes: xlabel='is_duplicate'>"
      ]
     },
     "execution_count": 9,
     "metadata": {},
     "output_type": "execute_result"
    },
    {
     "data": {
      "image/png": "[encoded data removed]",
      "text/plain": [
       "<Figure size 640x480 with 1 Axes>"
      ]
     },
     "metadata": {},
     "output_type": "display_data"
    }
   ],
   "source": [
    "#Count of duplicate values \n",
    "print(new_df['is_duplicate'].value_counts())\n",
    "\n",
    "#count of duplicate values(in %)\n",
    "print(new_df['is_duplicate'].value_counts()/new_df['is_duplicate'].count()*100)\n",
    "\n",
    "new_df['is_duplicate'].value_counts().plot(kind='bar')"
   ]
  },
  {
   "cell_type": "code",
   "execution_count": 10,
   "id": "dfe5f123",
   "metadata": {},
   "outputs": [
    {
     "name": "stdout",
     "output_type": "stream",
     "text": [
      "Number of unique questions: 72298\n",
      "Number of questions getting repeated: 5345\n"
     ]
    }
   ],
   "source": [
    "# Repeated Questions\n",
    "\n",
    "qid = pd.Series(new_df['qid1'].tolist() + new_df['qid2'].tolist())\n",
    "print('Number of unique questions:', np.unique(qid).shape[0])\n",
    "\n",
    "x = qid.value_counts()>1\n",
    "print('Number of questions getting repeated:', x[x].shape[0])"
   ]
  },
  {
   "cell_type": "code",
   "execution_count": 11,
   "id": "5ee0fade",
   "metadata": {},
   "outputs": [
    {
     "data": {
      "image/png": "[encoded data removed]",
      "text/plain": [
       "<Figure size 640x480 with 1 Axes>"
      ]
     },
     "metadata": {},
     "output_type": "display_data"
    }
   ],
   "source": [
    "#Repeated Questions Histogram\n",
    "\n",
    "plt.hist(qid.value_counts().values, bins=160)\n",
    "plt.yscale('log')\n",
    "plt.show()"
   ]
  },
  {
   "cell_type": "markdown",
   "id": "d4c4e23a",
   "metadata": {},
   "source": [
    "### Feature Engineering "
   ]
  },
  {
   "cell_type": "code",
   "execution_count": 12,
   "id": "30f42e61",
   "metadata": {},
   "outputs": [],
   "source": [
    "#Length of Question1 & Question2\n",
    "new_df['q1_len'] = new_df['question1'].str.len()\n",
    "new_df['q2_len'] = new_df['question2'].str.len()"
   ]
  },
  {
   "cell_type": "code",
   "execution_count": 13,
   "id": "b637b033",
   "metadata": {},
   "outputs": [
    {
     "data": {
      "text/html": [
       "<div>\n",
       "<style scoped>\n",
       "    .dataframe tbody tr th:only-of-type {\n",
       "        vertical-align: middle;\n",
       "    }\n",
       "\n",
       "    .dataframe tbody tr th {\n",
       "        vertical-align: top;\n",
       "    }\n",
       "\n",
       "    .dataframe thead th {\n",
       "        text-align: right;\n",
       "    }\n",
       "</style>\n",
       "<table border=\"1\" class=\"dataframe\">\n",
       "  <thead>\n",
       "    <tr style=\"text-align: right;\">\n",
       "      <th></th>\n",
       "      <th>id</th>\n",
       "      <th>qid1</th>\n",
       "      <th>qid2</th>\n",
       "      <th>question1</th>\n",
       "      <th>question2</th>\n",
       "      <th>is_duplicate</th>\n",
       "      <th>q1_len</th>\n",
       "      <th>q2_len</th>\n",
       "    </tr>\n",
       "  </thead>\n",
       "  <tbody>\n",
       "    <tr>\n",
       "      <th>31500</th>\n",
       "      <td>31500</td>\n",
       "      <td>58072</td>\n",
       "      <td>58073</td>\n",
       "      <td>Why did Rangers sack Scot Symon?</td>\n",
       "      <td>Why Indians want Kashmiris to be solely depend...</td>\n",
       "      <td>0</td>\n",
       "      <td>32</td>\n",
       "      <td>58</td>\n",
       "    </tr>\n",
       "    <tr>\n",
       "      <th>270887</th>\n",
       "      <td>270887</td>\n",
       "      <td>54575</td>\n",
       "      <td>10365</td>\n",
       "      <td>If universe expands without limit and dark/vac...</td>\n",
       "      <td>If universe expands and more space-time, dark/...</td>\n",
       "      <td>1</td>\n",
       "      <td>153</td>\n",
       "      <td>142</td>\n",
       "    </tr>\n",
       "    <tr>\n",
       "      <th>384362</th>\n",
       "      <td>384362</td>\n",
       "      <td>516388</td>\n",
       "      <td>516389</td>\n",
       "      <td>What are some good nutrition tips to keep a he...</td>\n",
       "      <td>What are some good nutrition tips to keep a he...</td>\n",
       "      <td>0</td>\n",
       "      <td>58</td>\n",
       "      <td>57</td>\n",
       "    </tr>\n",
       "    <tr>\n",
       "      <th>72809</th>\n",
       "      <td>72809</td>\n",
       "      <td>125038</td>\n",
       "      <td>125039</td>\n",
       "      <td>If I'm near-sighted, will keeping my glasses o...</td>\n",
       "      <td>Why does my computer/smartphone/TV screen hurt...</td>\n",
       "      <td>0</td>\n",
       "      <td>91</td>\n",
       "      <td>82</td>\n",
       "    </tr>\n",
       "    <tr>\n",
       "      <th>147054</th>\n",
       "      <td>147054</td>\n",
       "      <td>124558</td>\n",
       "      <td>6851</td>\n",
       "      <td>Why do we need to reading books?</td>\n",
       "      <td>Why should we read more books?</td>\n",
       "      <td>1</td>\n",
       "      <td>32</td>\n",
       "      <td>30</td>\n",
       "    </tr>\n",
       "  </tbody>\n",
       "</table>\n",
       "</div>"
      ],
      "text/plain": [
       "            id    qid1    qid2  \\\n",
       "31500    31500   58072   58073   \n",
       "270887  270887   54575   10365   \n",
       "384362  384362  516388  516389   \n",
       "72809    72809  125038  125039   \n",
       "147054  147054  124558    6851   \n",
       "\n",
       "                                                question1  \\\n",
       "31500                    Why did Rangers sack Scot Symon?   \n",
       "270887  If universe expands without limit and dark/vac...   \n",
       "384362  What are some good nutrition tips to keep a he...   \n",
       "72809   If I'm near-sighted, will keeping my glasses o...   \n",
       "147054                   Why do we need to reading books?   \n",
       "\n",
       "                                                question2  is_duplicate  \\\n",
       "31500   Why Indians want Kashmiris to be solely depend...             0   \n",
       "270887  If universe expands and more space-time, dark/...             1   \n",
       "384362  What are some good nutrition tips to keep a he...             0   \n",
       "72809   Why does my computer/smartphone/TV screen hurt...             0   \n",
       "147054                     Why should we read more books?             1   \n",
       "\n",
       "        q1_len  q2_len  \n",
       "31500       32      58  \n",
       "270887     153     142  \n",
       "384362      58      57  \n",
       "72809       91      82  \n",
       "147054      32      30  "
      ]
     },
     "execution_count": 13,
     "metadata": {},
     "output_type": "execute_result"
    }
   ],
   "source": [
    "new_df.head()"
   ]
  },
  {
   "cell_type": "code",
   "execution_count": 14,
   "id": "6eecb06f",
   "metadata": {},
   "outputs": [],
   "source": [
    "#Count no. of words\n",
    "new_df['q1_num_words'] = new_df['question1'].apply(lambda row: len(row.split(\" \")))\n",
    "new_df['q2_num_words'] = new_df['question2'].apply(lambda row: len(row.split(\" \")))"
   ]
  },
  {
   "cell_type": "code",
   "execution_count": 15,
   "id": "dd913887",
   "metadata": {},
   "outputs": [
    {
     "data": {
      "text/html": [
       "<div>\n",
       "<style scoped>\n",
       "    .dataframe tbody tr th:only-of-type {\n",
       "        vertical-align: middle;\n",
       "    }\n",
       "\n",
       "    .dataframe tbody tr th {\n",
       "        vertical-align: top;\n",
       "    }\n",
       "\n",
       "    .dataframe thead th {\n",
       "        text-align: right;\n",
       "    }\n",
       "</style>\n",
       "<table border=\"1\" class=\"dataframe\">\n",
       "  <thead>\n",
       "    <tr style=\"text-align: right;\">\n",
       "      <th></th>\n",
       "      <th>id</th>\n",
       "      <th>qid1</th>\n",
       "      <th>qid2</th>\n",
       "      <th>question1</th>\n",
       "      <th>question2</th>\n",
       "      <th>is_duplicate</th>\n",
       "      <th>q1_len</th>\n",
       "      <th>q2_len</th>\n",
       "      <th>q1_num_words</th>\n",
       "      <th>q2_num_words</th>\n",
       "    </tr>\n",
       "  </thead>\n",
       "  <tbody>\n",
       "    <tr>\n",
       "      <th>31500</th>\n",
       "      <td>31500</td>\n",
       "      <td>58072</td>\n",
       "      <td>58073</td>\n",
       "      <td>Why did Rangers sack Scot Symon?</td>\n",
       "      <td>Why Indians want Kashmiris to be solely depend...</td>\n",
       "      <td>0</td>\n",
       "      <td>32</td>\n",
       "      <td>58</td>\n",
       "      <td>6</td>\n",
       "      <td>10</td>\n",
       "    </tr>\n",
       "    <tr>\n",
       "      <th>270887</th>\n",
       "      <td>270887</td>\n",
       "      <td>54575</td>\n",
       "      <td>10365</td>\n",
       "      <td>If universe expands without limit and dark/vac...</td>\n",
       "      <td>If universe expands and more space-time, dark/...</td>\n",
       "      <td>1</td>\n",
       "      <td>153</td>\n",
       "      <td>142</td>\n",
       "      <td>22</td>\n",
       "      <td>19</td>\n",
       "    </tr>\n",
       "    <tr>\n",
       "      <th>384362</th>\n",
       "      <td>384362</td>\n",
       "      <td>516388</td>\n",
       "      <td>516389</td>\n",
       "      <td>What are some good nutrition tips to keep a he...</td>\n",
       "      <td>What are some good nutrition tips to keep a he...</td>\n",
       "      <td>0</td>\n",
       "      <td>58</td>\n",
       "      <td>57</td>\n",
       "      <td>11</td>\n",
       "      <td>11</td>\n",
       "    </tr>\n",
       "    <tr>\n",
       "      <th>72809</th>\n",
       "      <td>72809</td>\n",
       "      <td>125038</td>\n",
       "      <td>125039</td>\n",
       "      <td>If I'm near-sighted, will keeping my glasses o...</td>\n",
       "      <td>Why does my computer/smartphone/TV screen hurt...</td>\n",
       "      <td>0</td>\n",
       "      <td>91</td>\n",
       "      <td>82</td>\n",
       "      <td>17</td>\n",
       "      <td>13</td>\n",
       "    </tr>\n",
       "    <tr>\n",
       "      <th>147054</th>\n",
       "      <td>147054</td>\n",
       "      <td>124558</td>\n",
       "      <td>6851</td>\n",
       "      <td>Why do we need to reading books?</td>\n",
       "      <td>Why should we read more books?</td>\n",
       "      <td>1</td>\n",
       "      <td>32</td>\n",
       "      <td>30</td>\n",
       "      <td>7</td>\n",
       "      <td>6</td>\n",
       "    </tr>\n",
       "  </tbody>\n",
       "</table>\n",
       "</div>"
      ],
      "text/plain": [
       "            id    qid1    qid2  \\\n",
       "31500    31500   58072   58073   \n",
       "270887  270887   54575   10365   \n",
       "384362  384362  516388  516389   \n",
       "72809    72809  125038  125039   \n",
       "147054  147054  124558    6851   \n",
       "\n",
       "                                                question1  \\\n",
       "31500                    Why did Rangers sack Scot Symon?   \n",
       "270887  If universe expands without limit and dark/vac...   \n",
       "384362  What are some good nutrition tips to keep a he...   \n",
       "72809   If I'm near-sighted, will keeping my glasses o...   \n",
       "147054                   Why do we need to reading books?   \n",
       "\n",
       "                                                question2  is_duplicate  \\\n",
       "31500   Why Indians want Kashmiris to be solely depend...             0   \n",
       "270887  If universe expands and more space-time, dark/...             1   \n",
       "384362  What are some good nutrition tips to keep a he...             0   \n",
       "72809   Why does my computer/smartphone/TV screen hurt...             0   \n",
       "147054                     Why should we read more books?             1   \n",
       "\n",
       "        q1_len  q2_len  q1_num_words  q2_num_words  \n",
       "31500       32      58             6            10  \n",
       "270887     153     142            22            19  \n",
       "384362      58      57            11            11  \n",
       "72809       91      82            17            13  \n",
       "147054      32      30             7             6  "
      ]
     },
     "execution_count": 15,
     "metadata": {},
     "output_type": "execute_result"
    }
   ],
   "source": [
    "new_df.head()"
   ]
  },
  {
   "cell_type": "code",
   "execution_count": 16,
   "id": "c972bbab",
   "metadata": {},
   "outputs": [],
   "source": [
    "def common_words(row):\n",
    "    w1 = set(map(lambda word: word.lower().strip(), row['question1'].split(\" \")))\n",
    "    w2 = set(map(lambda word: word.lower().strip(), row['question2'].split(\" \")))\n",
    "    return len(w1 & w2)"
   ]
  },
  {
   "cell_type": "code",
   "execution_count": 17,
   "id": "0b674985",
   "metadata": {},
   "outputs": [],
   "source": [
    "new_df['word_common'] = new_df.apply(common_words, axis=1)"
   ]
  },
  {
   "cell_type": "code",
   "execution_count": 18,
   "id": "a0d71984",
   "metadata": {},
   "outputs": [
    {
     "data": {
      "text/html": [
       "<div>\n",
       "<style scoped>\n",
       "    .dataframe tbody tr th:only-of-type {\n",
       "        vertical-align: middle;\n",
       "    }\n",
       "\n",
       "    .dataframe tbody tr th {\n",
       "        vertical-align: top;\n",
       "    }\n",
       "\n",
       "    .dataframe thead th {\n",
       "        text-align: right;\n",
       "    }\n",
       "</style>\n",
       "<table border=\"1\" class=\"dataframe\">\n",
       "  <thead>\n",
       "    <tr style=\"text-align: right;\">\n",
       "      <th></th>\n",
       "      <th>id</th>\n",
       "      <th>qid1</th>\n",
       "      <th>qid2</th>\n",
       "      <th>question1</th>\n",
       "      <th>question2</th>\n",
       "      <th>is_duplicate</th>\n",
       "      <th>q1_len</th>\n",
       "      <th>q2_len</th>\n",
       "      <th>q1_num_words</th>\n",
       "      <th>q2_num_words</th>\n",
       "      <th>word_common</th>\n",
       "    </tr>\n",
       "  </thead>\n",
       "  <tbody>\n",
       "    <tr>\n",
       "      <th>31500</th>\n",
       "      <td>31500</td>\n",
       "      <td>58072</td>\n",
       "      <td>58073</td>\n",
       "      <td>Why did Rangers sack Scot Symon?</td>\n",
       "      <td>Why Indians want Kashmiris to be solely depend...</td>\n",
       "      <td>0</td>\n",
       "      <td>32</td>\n",
       "      <td>58</td>\n",
       "      <td>6</td>\n",
       "      <td>10</td>\n",
       "      <td>1</td>\n",
       "    </tr>\n",
       "    <tr>\n",
       "      <th>270887</th>\n",
       "      <td>270887</td>\n",
       "      <td>54575</td>\n",
       "      <td>10365</td>\n",
       "      <td>If universe expands without limit and dark/vac...</td>\n",
       "      <td>If universe expands and more space-time, dark/...</td>\n",
       "      <td>1</td>\n",
       "      <td>153</td>\n",
       "      <td>142</td>\n",
       "      <td>22</td>\n",
       "      <td>19</td>\n",
       "      <td>11</td>\n",
       "    </tr>\n",
       "    <tr>\n",
       "      <th>384362</th>\n",
       "      <td>384362</td>\n",
       "      <td>516388</td>\n",
       "      <td>516389</td>\n",
       "      <td>What are some good nutrition tips to keep a he...</td>\n",
       "      <td>What are some good nutrition tips to keep a he...</td>\n",
       "      <td>0</td>\n",
       "      <td>58</td>\n",
       "      <td>57</td>\n",
       "      <td>11</td>\n",
       "      <td>11</td>\n",
       "      <td>10</td>\n",
       "    </tr>\n",
       "    <tr>\n",
       "      <th>72809</th>\n",
       "      <td>72809</td>\n",
       "      <td>125038</td>\n",
       "      <td>125039</td>\n",
       "      <td>If I'm near-sighted, will keeping my glasses o...</td>\n",
       "      <td>Why does my computer/smartphone/TV screen hurt...</td>\n",
       "      <td>0</td>\n",
       "      <td>91</td>\n",
       "      <td>82</td>\n",
       "      <td>17</td>\n",
       "      <td>13</td>\n",
       "      <td>3</td>\n",
       "    </tr>\n",
       "    <tr>\n",
       "      <th>147054</th>\n",
       "      <td>147054</td>\n",
       "      <td>124558</td>\n",
       "      <td>6851</td>\n",
       "      <td>Why do we need to reading books?</td>\n",
       "      <td>Why should we read more books?</td>\n",
       "      <td>1</td>\n",
       "      <td>32</td>\n",
       "      <td>30</td>\n",
       "      <td>7</td>\n",
       "      <td>6</td>\n",
       "      <td>3</td>\n",
       "    </tr>\n",
       "  </tbody>\n",
       "</table>\n",
       "</div>"
      ],
      "text/plain": [
       "            id    qid1    qid2  \\\n",
       "31500    31500   58072   58073   \n",
       "270887  270887   54575   10365   \n",
       "384362  384362  516388  516389   \n",
       "72809    72809  125038  125039   \n",
       "147054  147054  124558    6851   \n",
       "\n",
       "                                                question1  \\\n",
       "31500                    Why did Rangers sack Scot Symon?   \n",
       "270887  If universe expands without limit and dark/vac...   \n",
       "384362  What are some good nutrition tips to keep a he...   \n",
       "72809   If I'm near-sighted, will keeping my glasses o...   \n",
       "147054                   Why do we need to reading books?   \n",
       "\n",
       "                                                question2  is_duplicate  \\\n",
       "31500   Why Indians want Kashmiris to be solely depend...             0   \n",
       "270887  If universe expands and more space-time, dark/...             1   \n",
       "384362  What are some good nutrition tips to keep a he...             0   \n",
       "72809   Why does my computer/smartphone/TV screen hurt...             0   \n",
       "147054                     Why should we read more books?             1   \n",
       "\n",
       "        q1_len  q2_len  q1_num_words  q2_num_words  word_common  \n",
       "31500       32      58             6            10            1  \n",
       "270887     153     142            22            19           11  \n",
       "384362      58      57            11            11           10  \n",
       "72809       91      82            17            13            3  \n",
       "147054      32      30             7             6            3  "
      ]
     },
     "execution_count": 18,
     "metadata": {},
     "output_type": "execute_result"
    }
   ],
   "source": [
    "new_df.head()"
   ]
  },
  {
   "cell_type": "code",
   "execution_count": 19,
   "id": "be7be27c",
   "metadata": {},
   "outputs": [],
   "source": [
    "def total_words(row):\n",
    "    w1 = set(map(lambda word: word.lower().strip(), row['question1'].split(\" \")))\n",
    "    w2 = set(map(lambda word: word.lower().strip(), row['question2'].split(\" \")))\n",
    "    return (len(w1) + len(w2))"
   ]
  },
  {
   "cell_type": "code",
   "execution_count": 20,
   "id": "7b47f521",
   "metadata": {},
   "outputs": [],
   "source": [
    "new_df['word_total'] = new_df.apply(total_words, axis=1)"
   ]
  },
  {
   "cell_type": "code",
   "execution_count": 21,
   "id": "2f61d8bf",
   "metadata": {},
   "outputs": [
    {
     "data": {
      "text/html": [
       "<div>\n",
       "<style scoped>\n",
       "    .dataframe tbody tr th:only-of-type {\n",
       "        vertical-align: middle;\n",
       "    }\n",
       "\n",
       "    .dataframe tbody tr th {\n",
       "        vertical-align: top;\n",
       "    }\n",
       "\n",
       "    .dataframe thead th {\n",
       "        text-align: right;\n",
       "    }\n",
       "</style>\n",
       "<table border=\"1\" class=\"dataframe\">\n",
       "  <thead>\n",
       "    <tr style=\"text-align: right;\">\n",
       "      <th></th>\n",
       "      <th>id</th>\n",
       "      <th>qid1</th>\n",
       "      <th>qid2</th>\n",
       "      <th>question1</th>\n",
       "      <th>question2</th>\n",
       "      <th>is_duplicate</th>\n",
       "      <th>q1_len</th>\n",
       "      <th>q2_len</th>\n",
       "      <th>q1_num_words</th>\n",
       "      <th>q2_num_words</th>\n",
       "      <th>word_common</th>\n",
       "      <th>word_total</th>\n",
       "    </tr>\n",
       "  </thead>\n",
       "  <tbody>\n",
       "    <tr>\n",
       "      <th>31500</th>\n",
       "      <td>31500</td>\n",
       "      <td>58072</td>\n",
       "      <td>58073</td>\n",
       "      <td>Why did Rangers sack Scot Symon?</td>\n",
       "      <td>Why Indians want Kashmiris to be solely depend...</td>\n",
       "      <td>0</td>\n",
       "      <td>32</td>\n",
       "      <td>58</td>\n",
       "      <td>6</td>\n",
       "      <td>10</td>\n",
       "      <td>1</td>\n",
       "      <td>16</td>\n",
       "    </tr>\n",
       "    <tr>\n",
       "      <th>270887</th>\n",
       "      <td>270887</td>\n",
       "      <td>54575</td>\n",
       "      <td>10365</td>\n",
       "      <td>If universe expands without limit and dark/vac...</td>\n",
       "      <td>If universe expands and more space-time, dark/...</td>\n",
       "      <td>1</td>\n",
       "      <td>153</td>\n",
       "      <td>142</td>\n",
       "      <td>22</td>\n",
       "      <td>19</td>\n",
       "      <td>11</td>\n",
       "      <td>37</td>\n",
       "    </tr>\n",
       "    <tr>\n",
       "      <th>384362</th>\n",
       "      <td>384362</td>\n",
       "      <td>516388</td>\n",
       "      <td>516389</td>\n",
       "      <td>What are some good nutrition tips to keep a he...</td>\n",
       "      <td>What are some good nutrition tips to keep a he...</td>\n",
       "      <td>0</td>\n",
       "      <td>58</td>\n",
       "      <td>57</td>\n",
       "      <td>11</td>\n",
       "      <td>11</td>\n",
       "      <td>10</td>\n",
       "      <td>22</td>\n",
       "    </tr>\n",
       "    <tr>\n",
       "      <th>72809</th>\n",
       "      <td>72809</td>\n",
       "      <td>125038</td>\n",
       "      <td>125039</td>\n",
       "      <td>If I'm near-sighted, will keeping my glasses o...</td>\n",
       "      <td>Why does my computer/smartphone/TV screen hurt...</td>\n",
       "      <td>0</td>\n",
       "      <td>91</td>\n",
       "      <td>82</td>\n",
       "      <td>17</td>\n",
       "      <td>13</td>\n",
       "      <td>3</td>\n",
       "      <td>27</td>\n",
       "    </tr>\n",
       "    <tr>\n",
       "      <th>147054</th>\n",
       "      <td>147054</td>\n",
       "      <td>124558</td>\n",
       "      <td>6851</td>\n",
       "      <td>Why do we need to reading books?</td>\n",
       "      <td>Why should we read more books?</td>\n",
       "      <td>1</td>\n",
       "      <td>32</td>\n",
       "      <td>30</td>\n",
       "      <td>7</td>\n",
       "      <td>6</td>\n",
       "      <td>3</td>\n",
       "      <td>13</td>\n",
       "    </tr>\n",
       "  </tbody>\n",
       "</table>\n",
       "</div>"
      ],
      "text/plain": [
       "            id    qid1    qid2  \\\n",
       "31500    31500   58072   58073   \n",
       "270887  270887   54575   10365   \n",
       "384362  384362  516388  516389   \n",
       "72809    72809  125038  125039   \n",
       "147054  147054  124558    6851   \n",
       "\n",
       "                                                question1  \\\n",
       "31500                    Why did Rangers sack Scot Symon?   \n",
       "270887  If universe expands without limit and dark/vac...   \n",
       "384362  What are some good nutrition tips to keep a he...   \n",
       "72809   If I'm near-sighted, will keeping my glasses o...   \n",
       "147054                   Why do we need to reading books?   \n",
       "\n",
       "                                                question2  is_duplicate  \\\n",
       "31500   Why Indians want Kashmiris to be solely depend...             0   \n",
       "270887  If universe expands and more space-time, dark/...             1   \n",
       "384362  What are some good nutrition tips to keep a he...             0   \n",
       "72809   Why does my computer/smartphone/TV screen hurt...             0   \n",
       "147054                     Why should we read more books?             1   \n",
       "\n",
       "        q1_len  q2_len  q1_num_words  q2_num_words  word_common  word_total  \n",
       "31500       32      58             6            10            1          16  \n",
       "270887     153     142            22            19           11          37  \n",
       "384362      58      57            11            11           10          22  \n",
       "72809       91      82            17            13            3          27  \n",
       "147054      32      30             7             6            3          13  "
      ]
     },
     "execution_count": 21,
     "metadata": {},
     "output_type": "execute_result"
    }
   ],
   "source": [
    "new_df.head()"
   ]
  },
  {
   "cell_type": "code",
   "execution_count": 22,
   "id": "87ee3f5c",
   "metadata": {},
   "outputs": [],
   "source": [
    "new_df['word_share'] = round(new_df['word_common']/new_df['word_total'],2)"
   ]
  },
  {
   "cell_type": "code",
   "execution_count": 23,
   "id": "3831c0d6",
   "metadata": {},
   "outputs": [
    {
     "data": {
      "text/html": [
       "<div>\n",
       "<style scoped>\n",
       "    .dataframe tbody tr th:only-of-type {\n",
       "        vertical-align: middle;\n",
       "    }\n",
       "\n",
       "    .dataframe tbody tr th {\n",
       "        vertical-align: top;\n",
       "    }\n",
       "\n",
       "    .dataframe thead th {\n",
       "        text-align: right;\n",
       "    }\n",
       "</style>\n",
       "<table border=\"1\" class=\"dataframe\">\n",
       "  <thead>\n",
       "    <tr style=\"text-align: right;\">\n",
       "      <th></th>\n",
       "      <th>id</th>\n",
       "      <th>qid1</th>\n",
       "      <th>qid2</th>\n",
       "      <th>question1</th>\n",
       "      <th>question2</th>\n",
       "      <th>is_duplicate</th>\n",
       "      <th>q1_len</th>\n",
       "      <th>q2_len</th>\n",
       "      <th>q1_num_words</th>\n",
       "      <th>q2_num_words</th>\n",
       "      <th>word_common</th>\n",
       "      <th>word_total</th>\n",
       "      <th>word_share</th>\n",
       "    </tr>\n",
       "  </thead>\n",
       "  <tbody>\n",
       "    <tr>\n",
       "      <th>31500</th>\n",
       "      <td>31500</td>\n",
       "      <td>58072</td>\n",
       "      <td>58073</td>\n",
       "      <td>Why did Rangers sack Scot Symon?</td>\n",
       "      <td>Why Indians want Kashmiris to be solely depend...</td>\n",
       "      <td>0</td>\n",
       "      <td>32</td>\n",
       "      <td>58</td>\n",
       "      <td>6</td>\n",
       "      <td>10</td>\n",
       "      <td>1</td>\n",
       "      <td>16</td>\n",
       "      <td>0.06</td>\n",
       "    </tr>\n",
       "    <tr>\n",
       "      <th>270887</th>\n",
       "      <td>270887</td>\n",
       "      <td>54575</td>\n",
       "      <td>10365</td>\n",
       "      <td>If universe expands without limit and dark/vac...</td>\n",
       "      <td>If universe expands and more space-time, dark/...</td>\n",
       "      <td>1</td>\n",
       "      <td>153</td>\n",
       "      <td>142</td>\n",
       "      <td>22</td>\n",
       "      <td>19</td>\n",
       "      <td>11</td>\n",
       "      <td>37</td>\n",
       "      <td>0.30</td>\n",
       "    </tr>\n",
       "    <tr>\n",
       "      <th>384362</th>\n",
       "      <td>384362</td>\n",
       "      <td>516388</td>\n",
       "      <td>516389</td>\n",
       "      <td>What are some good nutrition tips to keep a he...</td>\n",
       "      <td>What are some good nutrition tips to keep a he...</td>\n",
       "      <td>0</td>\n",
       "      <td>58</td>\n",
       "      <td>57</td>\n",
       "      <td>11</td>\n",
       "      <td>11</td>\n",
       "      <td>10</td>\n",
       "      <td>22</td>\n",
       "      <td>0.45</td>\n",
       "    </tr>\n",
       "    <tr>\n",
       "      <th>72809</th>\n",
       "      <td>72809</td>\n",
       "      <td>125038</td>\n",
       "      <td>125039</td>\n",
       "      <td>If I'm near-sighted, will keeping my glasses o...</td>\n",
       "      <td>Why does my computer/smartphone/TV screen hurt...</td>\n",
       "      <td>0</td>\n",
       "      <td>91</td>\n",
       "      <td>82</td>\n",
       "      <td>17</td>\n",
       "      <td>13</td>\n",
       "      <td>3</td>\n",
       "      <td>27</td>\n",
       "      <td>0.11</td>\n",
       "    </tr>\n",
       "    <tr>\n",
       "      <th>147054</th>\n",
       "      <td>147054</td>\n",
       "      <td>124558</td>\n",
       "      <td>6851</td>\n",
       "      <td>Why do we need to reading books?</td>\n",
       "      <td>Why should we read more books?</td>\n",
       "      <td>1</td>\n",
       "      <td>32</td>\n",
       "      <td>30</td>\n",
       "      <td>7</td>\n",
       "      <td>6</td>\n",
       "      <td>3</td>\n",
       "      <td>13</td>\n",
       "      <td>0.23</td>\n",
       "    </tr>\n",
       "  </tbody>\n",
       "</table>\n",
       "</div>"
      ],
      "text/plain": [
       "            id    qid1    qid2  \\\n",
       "31500    31500   58072   58073   \n",
       "270887  270887   54575   10365   \n",
       "384362  384362  516388  516389   \n",
       "72809    72809  125038  125039   \n",
       "147054  147054  124558    6851   \n",
       "\n",
       "                                                question1  \\\n",
       "31500                    Why did Rangers sack Scot Symon?   \n",
       "270887  If universe expands without limit and dark/vac...   \n",
       "384362  What are some good nutrition tips to keep a he...   \n",
       "72809   If I'm near-sighted, will keeping my glasses o...   \n",
       "147054                   Why do we need to reading books?   \n",
       "\n",
       "                                                question2  is_duplicate  \\\n",
       "31500   Why Indians want Kashmiris to be solely depend...             0   \n",
       "270887  If universe expands and more space-time, dark/...             1   \n",
       "384362  What are some good nutrition tips to keep a he...             0   \n",
       "72809   Why does my computer/smartphone/TV screen hurt...             0   \n",
       "147054                     Why should we read more books?             1   \n",
       "\n",
       "        q1_len  q2_len  q1_num_words  q2_num_words  word_common  word_total  \\\n",
       "31500       32      58             6            10            1          16   \n",
       "270887     153     142            22            19           11          37   \n",
       "384362      58      57            11            11           10          22   \n",
       "72809       91      82            17            13            3          27   \n",
       "147054      32      30             7             6            3          13   \n",
       "\n",
       "        word_share  \n",
       "31500         0.06  \n",
       "270887        0.30  \n",
       "384362        0.45  \n",
       "72809         0.11  \n",
       "147054        0.23  "
      ]
     },
     "execution_count": 23,
     "metadata": {},
     "output_type": "execute_result"
    }
   ],
   "source": [
    "new_df.head()"
   ]
  },
  {
   "cell_type": "markdown",
   "id": "165ab4cc",
   "metadata": {},
   "source": [
    "#### Analysis on Features"
   ]
  },
  {
   "cell_type": "code",
   "execution_count": 24,
   "id": "addc0f6f",
   "metadata": {},
   "outputs": [
    {
     "name": "stdout",
     "output_type": "stream",
     "text": [
      "Minimum Characters 1\n",
      "Maximum Characters 350\n",
      "Average No of Characters 59\n"
     ]
    },
    {
     "data": {
      "image/png": "[encoded data removed]",
      "text/plain": [
       "<Figure size 500x500 with 1 Axes>"
      ]
     },
     "metadata": {},
     "output_type": "display_data"
    }
   ],
   "source": [
    "sns.displot(new_df['q1_len'])\n",
    "print('Minimum Characters', new_df['q1_len'].min())\n",
    "print('Maximum Characters', new_df['q1_len'].max())\n",
    "print('Average No of Characters', int(new_df['q1_len'].mean()))"
   ]
  },
  {
   "cell_type": "code",
   "execution_count": 25,
   "id": "ea2512f4",
   "metadata": {},
   "outputs": [
    {
     "name": "stdout",
     "output_type": "stream",
     "text": [
      "Minimum Characters 5\n",
      "Maximum Characters 387\n",
      "Average No of Characters 59\n"
     ]
    },
    {
     "data": {
      "image/png": "[encoded data removed]",
      "text/plain": [
       "<Figure size 500x500 with 1 Axes>"
      ]
     },
     "metadata": {},
     "output_type": "display_data"
    }
   ],
   "source": [
    "sns.displot(new_df['q2_len'])\n",
    "print('Minimum Characters', new_df['q2_len'].min())\n",
    "print('Maximum Characters', new_df['q2_len'].max())\n",
    "print('Average No of Characters', int(new_df['q2_len'].mean()))"
   ]
  },
  {
   "cell_type": "code",
   "execution_count": 26,
   "id": "072c238a",
   "metadata": {},
   "outputs": [
    {
     "name": "stdout",
     "output_type": "stream",
     "text": [
      "Minimum Characters 1\n",
      "Maximum Characters 67\n",
      "Average No of Characters 10\n"
     ]
    },
    {
     "data": {
      "image/png": "[encoded data removed]",
      "text/plain": [
       "<Figure size 500x500 with 1 Axes>"
      ]
     },
     "metadata": {},
     "output_type": "display_data"
    }
   ],
   "source": [
    "sns.displot(new_df['q1_num_words'])\n",
    "print('Minimum Characters', new_df['q1_num_words'].min())\n",
    "print('Maximum Characters', new_df['q1_num_words'].max())\n",
    "print('Average No of Characters', int(new_df['q1_num_words'].mean()))"
   ]
  },
  {
   "cell_type": "code",
   "execution_count": 27,
   "id": "d23c34a0",
   "metadata": {},
   "outputs": [
    {
     "name": "stdout",
     "output_type": "stream",
     "text": [
      "Minimum Characters 1\n",
      "Maximum Characters 78\n",
      "Average No of Characters 11\n"
     ]
    },
    {
     "data": {
      "image/png": "[encoded data removed]",
      "text/plain": [
       "<Figure size 500x500 with 1 Axes>"
      ]
     },
     "metadata": {},
     "output_type": "display_data"
    }
   ],
   "source": [
    "sns.displot(new_df['q2_num_words'])\n",
    "print('Minimum Characters', new_df['q2_num_words'].min())\n",
    "print('Maximum Characters', new_df['q2_num_words'].max())\n",
    "print('Average No of Characters', int(new_df['q2_num_words'].mean()))"
   ]
  },
  {
   "cell_type": "code",
   "execution_count": 28,
   "id": "e3d5cd38",
   "metadata": {},
   "outputs": [
    {
     "data": {
      "image/png": "[encoded data removed]",
      "text/plain": [
       "<Figure size 640x480 with 1 Axes>"
      ]
     },
     "metadata": {},
     "output_type": "display_data"
    }
   ],
   "source": [
    "#common words\n",
    "sns.distplot(new_df[new_df['is_duplicate'] == 0]['word_common'], label='non duplicate')\n",
    "sns.distplot(new_df[new_df['is_duplicate'] == 1]['word_common'], label='duplicate')\n",
    "plt.legend()\n",
    "plt.show()"
   ]
  },
  {
   "cell_type": "code",
   "execution_count": 29,
   "id": "21f2a62f",
   "metadata": {},
   "outputs": [
    {
     "data": {
      "image/png": "[encoded data removed]",
      "text/plain": [
       "<Figure size 640x480 with 1 Axes>"
      ]
     },
     "metadata": {},
     "output_type": "display_data"
    }
   ],
   "source": [
    "#total words\n",
    "sns.distplot(new_df[new_df['is_duplicate'] == 0]['word_total'], label='non duplicate')\n",
    "sns.distplot(new_df[new_df['is_duplicate'] == 1]['word_total'], label='duplicate')\n",
    "plt.legend()\n",
    "plt.show()"
   ]
  },
  {
   "cell_type": "code",
   "execution_count": 30,
   "id": "e6cf78da",
   "metadata": {},
   "outputs": [
    {
     "data": {
      "image/png": "[encoded data removed]",
      "text/plain": [
       "<Figure size 640x480 with 1 Axes>"
      ]
     },
     "metadata": {},
     "output_type": "display_data"
    }
   ],
   "source": [
    "#word share\n",
    "sns.distplot(new_df[new_df['is_duplicate'] == 0]['word_share'], label='non duplicate')\n",
    "sns.distplot(new_df[new_df['is_duplicate'] == 1]['word_share'], label='duplicate')\n",
    "plt.legend()\n",
    "plt.show()"
   ]
  },
  {
   "cell_type": "code",
   "execution_count": 31,
   "id": "b97d7de4",
   "metadata": {},
   "outputs": [
    {
     "data": {
      "text/html": [
       "<div>\n",
       "<style scoped>\n",
       "    .dataframe tbody tr th:only-of-type {\n",
       "        vertical-align: middle;\n",
       "    }\n",
       "\n",
       "    .dataframe tbody tr th {\n",
       "        vertical-align: top;\n",
       "    }\n",
       "\n",
       "    .dataframe thead th {\n",
       "        text-align: right;\n",
       "    }\n",
       "</style>\n",
       "<table border=\"1\" class=\"dataframe\">\n",
       "  <thead>\n",
       "    <tr style=\"text-align: right;\">\n",
       "      <th></th>\n",
       "      <th>question1</th>\n",
       "      <th>question2</th>\n",
       "    </tr>\n",
       "  </thead>\n",
       "  <tbody>\n",
       "    <tr>\n",
       "      <th>31500</th>\n",
       "      <td>Why did Rangers sack Scot Symon?</td>\n",
       "      <td>Why Indians want Kashmiris to be solely depend...</td>\n",
       "    </tr>\n",
       "    <tr>\n",
       "      <th>270887</th>\n",
       "      <td>If universe expands without limit and dark/vac...</td>\n",
       "      <td>If universe expands and more space-time, dark/...</td>\n",
       "    </tr>\n",
       "    <tr>\n",
       "      <th>384362</th>\n",
       "      <td>What are some good nutrition tips to keep a he...</td>\n",
       "      <td>What are some good nutrition tips to keep a he...</td>\n",
       "    </tr>\n",
       "    <tr>\n",
       "      <th>72809</th>\n",
       "      <td>If I'm near-sighted, will keeping my glasses o...</td>\n",
       "      <td>Why does my computer/smartphone/TV screen hurt...</td>\n",
       "    </tr>\n",
       "    <tr>\n",
       "      <th>147054</th>\n",
       "      <td>Why do we need to reading books?</td>\n",
       "      <td>Why should we read more books?</td>\n",
       "    </tr>\n",
       "  </tbody>\n",
       "</table>\n",
       "</div>"
      ],
      "text/plain": [
       "                                                question1  \\\n",
       "31500                    Why did Rangers sack Scot Symon?   \n",
       "270887  If universe expands without limit and dark/vac...   \n",
       "384362  What are some good nutrition tips to keep a he...   \n",
       "72809   If I'm near-sighted, will keeping my glasses o...   \n",
       "147054                   Why do we need to reading books?   \n",
       "\n",
       "                                                question2  \n",
       "31500   Why Indians want Kashmiris to be solely depend...  \n",
       "270887  If universe expands and more space-time, dark/...  \n",
       "384362  What are some good nutrition tips to keep a he...  \n",
       "72809   Why does my computer/smartphone/TV screen hurt...  \n",
       "147054                     Why should we read more books?  "
      ]
     },
     "execution_count": 31,
     "metadata": {},
     "output_type": "execute_result"
    }
   ],
   "source": [
    "ques_df = new_df[['question1', 'question2']]\n",
    "ques_df.head()"
   ]
  },
  {
   "cell_type": "code",
   "execution_count": 32,
   "id": "7fbe8789",
   "metadata": {},
   "outputs": [
    {
     "name": "stdout",
     "output_type": "stream",
     "text": [
      "(40000, 8)\n"
     ]
    },
    {
     "data": {
      "text/html": [
       "<div>\n",
       "<style scoped>\n",
       "    .dataframe tbody tr th:only-of-type {\n",
       "        vertical-align: middle;\n",
       "    }\n",
       "\n",
       "    .dataframe tbody tr th {\n",
       "        vertical-align: top;\n",
       "    }\n",
       "\n",
       "    .dataframe thead th {\n",
       "        text-align: right;\n",
       "    }\n",
       "</style>\n",
       "<table border=\"1\" class=\"dataframe\">\n",
       "  <thead>\n",
       "    <tr style=\"text-align: right;\">\n",
       "      <th></th>\n",
       "      <th>is_duplicate</th>\n",
       "      <th>q1_len</th>\n",
       "      <th>q2_len</th>\n",
       "      <th>q1_num_words</th>\n",
       "      <th>q2_num_words</th>\n",
       "      <th>word_common</th>\n",
       "      <th>word_total</th>\n",
       "      <th>word_share</th>\n",
       "    </tr>\n",
       "  </thead>\n",
       "  <tbody>\n",
       "    <tr>\n",
       "      <th>31500</th>\n",
       "      <td>0</td>\n",
       "      <td>32</td>\n",
       "      <td>58</td>\n",
       "      <td>6</td>\n",
       "      <td>10</td>\n",
       "      <td>1</td>\n",
       "      <td>16</td>\n",
       "      <td>0.06</td>\n",
       "    </tr>\n",
       "    <tr>\n",
       "      <th>270887</th>\n",
       "      <td>1</td>\n",
       "      <td>153</td>\n",
       "      <td>142</td>\n",
       "      <td>22</td>\n",
       "      <td>19</td>\n",
       "      <td>11</td>\n",
       "      <td>37</td>\n",
       "      <td>0.30</td>\n",
       "    </tr>\n",
       "    <tr>\n",
       "      <th>384362</th>\n",
       "      <td>0</td>\n",
       "      <td>58</td>\n",
       "      <td>57</td>\n",
       "      <td>11</td>\n",
       "      <td>11</td>\n",
       "      <td>10</td>\n",
       "      <td>22</td>\n",
       "      <td>0.45</td>\n",
       "    </tr>\n",
       "    <tr>\n",
       "      <th>72809</th>\n",
       "      <td>0</td>\n",
       "      <td>91</td>\n",
       "      <td>82</td>\n",
       "      <td>17</td>\n",
       "      <td>13</td>\n",
       "      <td>3</td>\n",
       "      <td>27</td>\n",
       "      <td>0.11</td>\n",
       "    </tr>\n",
       "    <tr>\n",
       "      <th>147054</th>\n",
       "      <td>1</td>\n",
       "      <td>32</td>\n",
       "      <td>30</td>\n",
       "      <td>7</td>\n",
       "      <td>6</td>\n",
       "      <td>3</td>\n",
       "      <td>13</td>\n",
       "      <td>0.23</td>\n",
       "    </tr>\n",
       "  </tbody>\n",
       "</table>\n",
       "</div>"
      ],
      "text/plain": [
       "        is_duplicate  q1_len  q2_len  q1_num_words  q2_num_words  word_common  \\\n",
       "31500              0      32      58             6            10            1   \n",
       "270887             1     153     142            22            19           11   \n",
       "384362             0      58      57            11            11           10   \n",
       "72809              0      91      82            17            13            3   \n",
       "147054             1      32      30             7             6            3   \n",
       "\n",
       "        word_total  word_share  \n",
       "31500           16        0.06  \n",
       "270887          37        0.30  \n",
       "384362          22        0.45  \n",
       "72809           27        0.11  \n",
       "147054          13        0.23  "
      ]
     },
     "execution_count": 32,
     "metadata": {},
     "output_type": "execute_result"
    }
   ],
   "source": [
    "final_df = new_df.drop(columns=['id', 'qid1', 'qid2', 'question1', 'question2'])\n",
    "print(final_df.shape)\n",
    "final_df.head()"
   ]
  },
  {
   "cell_type": "code",
   "execution_count": 33,
   "id": "f593ab78",
   "metadata": {},
   "outputs": [],
   "source": [
    "from sklearn.feature_extraction.text import CountVectorizer\n",
    "#merge text\n",
    "questions = list(ques_df['question1']) + list(ques_df['question2'])"
   ]
  },
  {
   "cell_type": "code",
   "execution_count": 34,
   "id": "6594a9b5",
   "metadata": {},
   "outputs": [],
   "source": [
    "cv = CountVectorizer(max_features=4000)\n",
    "q1_arr, q2_arr = np.vsplit(cv.fit_transform(questions).toarray(),2)"
   ]
  },
  {
   "cell_type": "code",
   "execution_count": 35,
   "id": "dcd86b84",
   "metadata": {},
   "outputs": [],
   "source": [
    "temp_df1 = pd.DataFrame(q1_arr, index= ques_df.index)\n",
    "temp_df2 = pd.DataFrame(q2_arr, index= ques_df.index)\n",
    "temp_df = pd.concat([temp_df1, temp_df2], axis=1)"
   ]
  },
  {
   "cell_type": "code",
   "execution_count": 36,
   "id": "47bc319b",
   "metadata": {},
   "outputs": [
    {
     "data": {
      "text/plain": [
       "(40000, 8000)"
      ]
     },
     "execution_count": 36,
     "metadata": {},
     "output_type": "execute_result"
    }
   ],
   "source": [
    "temp_df.shape"
   ]
  },
  {
   "cell_type": "code",
   "execution_count": 37,
   "id": "649fce88",
   "metadata": {},
   "outputs": [
    {
     "name": "stdout",
     "output_type": "stream",
     "text": [
      "(40000, 8008)\n"
     ]
    },
    {
     "data": {
      "text/html": [
       "<div>\n",
       "<style scoped>\n",
       "    .dataframe tbody tr th:only-of-type {\n",
       "        vertical-align: middle;\n",
       "    }\n",
       "\n",
       "    .dataframe tbody tr th {\n",
       "        vertical-align: top;\n",
       "    }\n",
       "\n",
       "    .dataframe thead th {\n",
       "        text-align: right;\n",
       "    }\n",
       "</style>\n",
       "<table border=\"1\" class=\"dataframe\">\n",
       "  <thead>\n",
       "    <tr style=\"text-align: right;\">\n",
       "      <th></th>\n",
       "      <th>is_duplicate</th>\n",
       "      <th>q1_len</th>\n",
       "      <th>q2_len</th>\n",
       "      <th>q1_num_words</th>\n",
       "      <th>q2_num_words</th>\n",
       "      <th>word_common</th>\n",
       "      <th>word_total</th>\n",
       "      <th>word_share</th>\n",
       "      <th>0</th>\n",
       "      <th>1</th>\n",
       "      <th>...</th>\n",
       "      <th>3990</th>\n",
       "      <th>3991</th>\n",
       "      <th>3992</th>\n",
       "      <th>3993</th>\n",
       "      <th>3994</th>\n",
       "      <th>3995</th>\n",
       "      <th>3996</th>\n",
       "      <th>3997</th>\n",
       "      <th>3998</th>\n",
       "      <th>3999</th>\n",
       "    </tr>\n",
       "  </thead>\n",
       "  <tbody>\n",
       "    <tr>\n",
       "      <th>31500</th>\n",
       "      <td>0</td>\n",
       "      <td>32</td>\n",
       "      <td>58</td>\n",
       "      <td>6</td>\n",
       "      <td>10</td>\n",
       "      <td>1</td>\n",
       "      <td>16</td>\n",
       "      <td>0.06</td>\n",
       "      <td>0</td>\n",
       "      <td>0</td>\n",
       "      <td>...</td>\n",
       "      <td>0</td>\n",
       "      <td>0</td>\n",
       "      <td>0</td>\n",
       "      <td>0</td>\n",
       "      <td>0</td>\n",
       "      <td>0</td>\n",
       "      <td>0</td>\n",
       "      <td>0</td>\n",
       "      <td>0</td>\n",
       "      <td>0</td>\n",
       "    </tr>\n",
       "    <tr>\n",
       "      <th>270887</th>\n",
       "      <td>1</td>\n",
       "      <td>153</td>\n",
       "      <td>142</td>\n",
       "      <td>22</td>\n",
       "      <td>19</td>\n",
       "      <td>11</td>\n",
       "      <td>37</td>\n",
       "      <td>0.30</td>\n",
       "      <td>0</td>\n",
       "      <td>0</td>\n",
       "      <td>...</td>\n",
       "      <td>0</td>\n",
       "      <td>0</td>\n",
       "      <td>0</td>\n",
       "      <td>0</td>\n",
       "      <td>0</td>\n",
       "      <td>0</td>\n",
       "      <td>0</td>\n",
       "      <td>0</td>\n",
       "      <td>0</td>\n",
       "      <td>0</td>\n",
       "    </tr>\n",
       "    <tr>\n",
       "      <th>384362</th>\n",
       "      <td>0</td>\n",
       "      <td>58</td>\n",
       "      <td>57</td>\n",
       "      <td>11</td>\n",
       "      <td>11</td>\n",
       "      <td>10</td>\n",
       "      <td>22</td>\n",
       "      <td>0.45</td>\n",
       "      <td>0</td>\n",
       "      <td>0</td>\n",
       "      <td>...</td>\n",
       "      <td>0</td>\n",
       "      <td>0</td>\n",
       "      <td>0</td>\n",
       "      <td>0</td>\n",
       "      <td>0</td>\n",
       "      <td>0</td>\n",
       "      <td>0</td>\n",
       "      <td>0</td>\n",
       "      <td>0</td>\n",
       "      <td>0</td>\n",
       "    </tr>\n",
       "    <tr>\n",
       "      <th>72809</th>\n",
       "      <td>0</td>\n",
       "      <td>91</td>\n",
       "      <td>82</td>\n",
       "      <td>17</td>\n",
       "      <td>13</td>\n",
       "      <td>3</td>\n",
       "      <td>27</td>\n",
       "      <td>0.11</td>\n",
       "      <td>0</td>\n",
       "      <td>0</td>\n",
       "      <td>...</td>\n",
       "      <td>0</td>\n",
       "      <td>0</td>\n",
       "      <td>0</td>\n",
       "      <td>0</td>\n",
       "      <td>0</td>\n",
       "      <td>0</td>\n",
       "      <td>0</td>\n",
       "      <td>0</td>\n",
       "      <td>0</td>\n",
       "      <td>0</td>\n",
       "    </tr>\n",
       "    <tr>\n",
       "      <th>147054</th>\n",
       "      <td>1</td>\n",
       "      <td>32</td>\n",
       "      <td>30</td>\n",
       "      <td>7</td>\n",
       "      <td>6</td>\n",
       "      <td>3</td>\n",
       "      <td>13</td>\n",
       "      <td>0.23</td>\n",
       "      <td>0</td>\n",
       "      <td>0</td>\n",
       "      <td>...</td>\n",
       "      <td>0</td>\n",
       "      <td>0</td>\n",
       "      <td>0</td>\n",
       "      <td>0</td>\n",
       "      <td>0</td>\n",
       "      <td>0</td>\n",
       "      <td>0</td>\n",
       "      <td>0</td>\n",
       "      <td>0</td>\n",
       "      <td>0</td>\n",
       "    </tr>\n",
       "  </tbody>\n",
       "</table>\n",
       "<p>5 rows × 8008 columns</p>\n",
       "</div>"
      ],
      "text/plain": [
       "        is_duplicate  q1_len  q2_len  q1_num_words  q2_num_words  word_common  \\\n",
       "31500              0      32      58             6            10            1   \n",
       "270887             1     153     142            22            19           11   \n",
       "384362             0      58      57            11            11           10   \n",
       "72809              0      91      82            17            13            3   \n",
       "147054             1      32      30             7             6            3   \n",
       "\n",
       "        word_total  word_share  0  1  ...  3990  3991  3992  3993  3994  3995  \\\n",
       "31500           16        0.06  0  0  ...     0     0     0     0     0     0   \n",
       "270887          37        0.30  0  0  ...     0     0     0     0     0     0   \n",
       "384362          22        0.45  0  0  ...     0     0     0     0     0     0   \n",
       "72809           27        0.11  0  0  ...     0     0     0     0     0     0   \n",
       "147054          13        0.23  0  0  ...     0     0     0     0     0     0   \n",
       "\n",
       "        3996  3997  3998  3999  \n",
       "31500      0     0     0     0  \n",
       "270887     0     0     0     0  \n",
       "384362     0     0     0     0  \n",
       "72809      0     0     0     0  \n",
       "147054     0     0     0     0  \n",
       "\n",
       "[5 rows x 8008 columns]"
      ]
     },
     "execution_count": 37,
     "metadata": {},
     "output_type": "execute_result"
    }
   ],
   "source": [
    "final_df = pd.concat([final_df, temp_df], axis=1)\n",
    "print(final_df.shape)\n",
    "final_df.head()"
   ]
  },
  {
   "cell_type": "code",
   "execution_count": 38,
   "id": "f988cde5",
   "metadata": {},
   "outputs": [],
   "source": [
    "from sklearn.model_selection import train_test_split\n",
    "X_train, X_test, y_train, y_test = train_test_split(temp_df.iloc[:, 0:-1].values, temp_df.iloc[:, -1].values, \n",
    "                                                    test_size=0.2, stratify=temp_df.iloc[:, -1].values, random_state=42)"
   ]
  },
  {
   "cell_type": "code",
   "execution_count": 39,
   "id": "e404e912",
   "metadata": {},
   "outputs": [],
   "source": [
    "from imblearn.over_sampling import SMOTE\n",
    "smote = SMOTE(random_state=42)\n",
    "X_res, y_res = smote.fit_resample(X_train, y_train)"
   ]
  },
  {
   "cell_type": "code",
   "execution_count": 40,
   "id": "9251d70b",
   "metadata": {},
   "outputs": [],
   "source": [
    "from sklearn.ensemble import RandomForestClassifier\n",
    "from sklearn.metrics import accuracy_score"
   ]
  },
  {
   "cell_type": "code",
   "execution_count": 41,
   "id": "f82f1a85",
   "metadata": {},
   "outputs": [],
   "source": [
    "rf = RandomForestClassifier()"
   ]
  },
  {
   "cell_type": "code",
   "execution_count": 42,
   "id": "65110483",
   "metadata": {},
   "outputs": [
    {
     "data": {
      "text/html": [
       "<style>#sk-container-id-1 {color: black;background-color: white;}#sk-container-id-1 pre{padding: 0;}#sk-container-id-1 div.sk-toggleable {background-color: white;}#sk-container-id-1 label.sk-toggleable__label {cursor: pointer;display: block;width: 100%;margin-bottom: 0;padding: 0.3em;box-sizing: border-box;text-align: center;}#sk-container-id-1 label.sk-toggleable__label-arrow:before {content: \"▸\";float: left;margin-right: 0.25em;color: #696969;}#sk-container-id-1 label.sk-toggleable__label-arrow:hover:before {color: black;}#sk-container-id-1 div.sk-estimator:hover label.sk-toggleable__label-arrow:before {color: black;}#sk-container-id-1 div.sk-toggleable__content {max-height: 0;max-width: 0;overflow: hidden;text-align: left;background-color: #f0f8ff;}#sk-container-id-1 div.sk-toggleable__content pre {margin: 0.2em;color: black;border-radius: 0.25em;background-color: #f0f8ff;}#sk-container-id-1 input.sk-toggleable__control:checked~div.sk-toggleable__content {max-height: 200px;max-width: 100%;overflow: auto;}#sk-container-id-1 input.sk-toggleable__control:checked~label.sk-toggleable__label-arrow:before {content: \"▾\";}#sk-container-id-1 div.sk-estimator input.sk-toggleable__control:checked~label.sk-toggleable__label {background-color: #d4ebff;}#sk-container-id-1 div.sk-label input.sk-toggleable__control:checked~label.sk-toggleable__label {background-color: #d4ebff;}#sk-container-id-1 input.sk-hidden--visually {border: 0;clip: rect(1px 1px 1px 1px);clip: rect(1px, 1px, 1px, 1px);height: 1px;margin: -1px;overflow: hidden;padding: 0;position: absolute;width: 1px;}#sk-container-id-1 div.sk-estimator {font-family: monospace;background-color: #f0f8ff;border: 1px dotted black;border-radius: 0.25em;box-sizing: border-box;margin-bottom: 0.5em;}#sk-container-id-1 div.sk-estimator:hover {background-color: #d4ebff;}#sk-container-id-1 div.sk-parallel-item::after {content: \"\";width: 100%;border-bottom: 1px solid gray;flex-grow: 1;}#sk-container-id-1 div.sk-label:hover label.sk-toggleable__label {background-color: #d4ebff;}#sk-container-id-1 div.sk-serial::before {content: \"\";position: absolute;border-left: 1px solid gray;box-sizing: border-box;top: 0;bottom: 0;left: 50%;z-index: 0;}#sk-container-id-1 div.sk-serial {display: flex;flex-direction: column;align-items: center;background-color: white;padding-right: 0.2em;padding-left: 0.2em;position: relative;}#sk-container-id-1 div.sk-item {position: relative;z-index: 1;}#sk-container-id-1 div.sk-parallel {display: flex;align-items: stretch;justify-content: center;background-color: white;position: relative;}#sk-container-id-1 div.sk-item::before, #sk-container-id-1 div.sk-parallel-item::before {content: \"\";position: absolute;border-left: 1px solid gray;box-sizing: border-box;top: 0;bottom: 0;left: 50%;z-index: -1;}#sk-container-id-1 div.sk-parallel-item {display: flex;flex-direction: column;z-index: 1;position: relative;background-color: white;}#sk-container-id-1 div.sk-parallel-item:first-child::after {align-self: flex-end;width: 50%;}#sk-container-id-1 div.sk-parallel-item:last-child::after {align-self: flex-start;width: 50%;}#sk-container-id-1 div.sk-parallel-item:only-child::after {width: 0;}#sk-container-id-1 div.sk-dashed-wrapped {border: 1px dashed gray;margin: 0 0.4em 0.5em 0.4em;box-sizing: border-box;padding-bottom: 0.4em;background-color: white;}#sk-container-id-1 div.sk-label label {font-family: monospace;font-weight: bold;display: inline-block;line-height: 1.2em;}#sk-container-id-1 div.sk-label-container {text-align: center;}#sk-container-id-1 div.sk-container {/* jupyter's `normalize.less` sets `[hidden] { display: none; }` but bootstrap.min.css set `[hidden] { display: none !important; }` so we also need the `!important` here to be able to override the default hidden behavior on the sphinx rendered scikit-learn.org. See: https://github.com/scikit-learn/scikit-learn/issues/21755 */display: inline-block !important;position: relative;}#sk-container-id-1 div.sk-text-repr-fallback {display: none;}</style><div id=\"sk-container-id-1\" class=\"sk-top-container\"><div class=\"sk-text-repr-fallback\"><pre>RandomForestClassifier()</pre><b>In a Jupyter environment, please rerun this cell to show the HTML representation or trust the notebook. <br />On GitHub, the HTML representation is unable to render, please try loading this page with nbviewer.org.</b></div><div class=\"sk-container\" hidden><div class=\"sk-item\"><div class=\"sk-estimator sk-toggleable\"><input class=\"sk-toggleable__control sk-hidden--visually\" id=\"sk-estimator-id-1\" type=\"checkbox\" checked><label for=\"sk-estimator-id-1\" class=\"sk-toggleable__label sk-toggleable__label-arrow\">RandomForestClassifier</label><div class=\"sk-toggleable__content\"><pre>RandomForestClassifier()</pre></div></div></div></div></div>"
      ],
      "text/plain": [
       "RandomForestClassifier()"
      ]
     },
     "execution_count": 42,
     "metadata": {},
     "output_type": "execute_result"
    }
   ],
   "source": [
    "rf.fit(X_train, y_train)"
   ]
  },
  {
   "cell_type": "code",
   "execution_count": 43,
   "id": "cdd56cdb",
   "metadata": {},
   "outputs": [
    {
     "data": {
      "text/plain": [
       "0.9995"
      ]
     },
     "execution_count": 43,
     "metadata": {},
     "output_type": "execute_result"
    }
   ],
   "source": [
    "y_pred = rf.predict(X_test)\n",
    "accuracy_score(y_test, y_pred)"
   ]
  },
  {
   "cell_type": "code",
   "execution_count": 44,
   "id": "a1ac896d",
   "metadata": {},
   "outputs": [
    {
     "data": {
      "text/plain": [
       "array([[7995,    0],\n",
       "       [   4,    1]], dtype=int64)"
      ]
     },
     "execution_count": 44,
     "metadata": {},
     "output_type": "execute_result"
    }
   ],
   "source": [
    "from sklearn.metrics import confusion_matrix, classification_report\n",
    "confusion_matrix(y_test, y_pred)"
   ]
  },
  {
   "cell_type": "code",
   "execution_count": 45,
   "id": "e313c19f",
   "metadata": {},
   "outputs": [
    {
     "name": "stdout",
     "output_type": "stream",
     "text": [
      "              precision    recall  f1-score   support\n",
      "\n",
      "           0       1.00      1.00      1.00      7995\n",
      "           1       1.00      0.20      0.33         5\n",
      "\n",
      "    accuracy                           1.00      8000\n",
      "   macro avg       1.00      0.60      0.67      8000\n",
      "weighted avg       1.00      1.00      1.00      8000\n",
      "\n"
     ]
    }
   ],
   "source": [
    "print(classification_report(y_test, y_pred))"
   ]
  },
  {
   "cell_type": "code",
   "execution_count": 46,
   "id": "915e10f1",
   "metadata": {},
   "outputs": [],
   "source": [
    "from xgboost import XGBClassifier\n",
    "xgb = XGBClassifier(scale_pos_weight = len(y_train[y_train==0]) / len(y_train[y_train==1]))"
   ]
  },
  {
   "cell_type": "code",
   "execution_count": 47,
   "id": "9119ddb6",
   "metadata": {},
   "outputs": [
    {
     "data": {
      "text/html": [
       "<style>#sk-container-id-2 {color: black;background-color: white;}#sk-container-id-2 pre{padding: 0;}#sk-container-id-2 div.sk-toggleable {background-color: white;}#sk-container-id-2 label.sk-toggleable__label {cursor: pointer;display: block;width: 100%;margin-bottom: 0;padding: 0.3em;box-sizing: border-box;text-align: center;}#sk-container-id-2 label.sk-toggleable__label-arrow:before {content: \"▸\";float: left;margin-right: 0.25em;color: #696969;}#sk-container-id-2 label.sk-toggleable__label-arrow:hover:before {color: black;}#sk-container-id-2 div.sk-estimator:hover label.sk-toggleable__label-arrow:before {color: black;}#sk-container-id-2 div.sk-toggleable__content {max-height: 0;max-width: 0;overflow: hidden;text-align: left;background-color: #f0f8ff;}#sk-container-id-2 div.sk-toggleable__content pre {margin: 0.2em;color: black;border-radius: 0.25em;background-color: #f0f8ff;}#sk-container-id-2 input.sk-toggleable__control:checked~div.sk-toggleable__content {max-height: 200px;max-width: 100%;overflow: auto;}#sk-container-id-2 input.sk-toggleable__control:checked~label.sk-toggleable__label-arrow:before {content: \"▾\";}#sk-container-id-2 div.sk-estimator input.sk-toggleable__control:checked~label.sk-toggleable__label {background-color: #d4ebff;}#sk-container-id-2 div.sk-label input.sk-toggleable__control:checked~label.sk-toggleable__label {background-color: #d4ebff;}#sk-container-id-2 input.sk-hidden--visually {border: 0;clip: rect(1px 1px 1px 1px);clip: rect(1px, 1px, 1px, 1px);height: 1px;margin: -1px;overflow: hidden;padding: 0;position: absolute;width: 1px;}#sk-container-id-2 div.sk-estimator {font-family: monospace;background-color: #f0f8ff;border: 1px dotted black;border-radius: 0.25em;box-sizing: border-box;margin-bottom: 0.5em;}#sk-container-id-2 div.sk-estimator:hover {background-color: #d4ebff;}#sk-container-id-2 div.sk-parallel-item::after {content: \"\";width: 100%;border-bottom: 1px solid gray;flex-grow: 1;}#sk-container-id-2 div.sk-label:hover label.sk-toggleable__label {background-color: #d4ebff;}#sk-container-id-2 div.sk-serial::before {content: \"\";position: absolute;border-left: 1px solid gray;box-sizing: border-box;top: 0;bottom: 0;left: 50%;z-index: 0;}#sk-container-id-2 div.sk-serial {display: flex;flex-direction: column;align-items: center;background-color: white;padding-right: 0.2em;padding-left: 0.2em;position: relative;}#sk-container-id-2 div.sk-item {position: relative;z-index: 1;}#sk-container-id-2 div.sk-parallel {display: flex;align-items: stretch;justify-content: center;background-color: white;position: relative;}#sk-container-id-2 div.sk-item::before, #sk-container-id-2 div.sk-parallel-item::before {content: \"\";position: absolute;border-left: 1px solid gray;box-sizing: border-box;top: 0;bottom: 0;left: 50%;z-index: -1;}#sk-container-id-2 div.sk-parallel-item {display: flex;flex-direction: column;z-index: 1;position: relative;background-color: white;}#sk-container-id-2 div.sk-parallel-item:first-child::after {align-self: flex-end;width: 50%;}#sk-container-id-2 div.sk-parallel-item:last-child::after {align-self: flex-start;width: 50%;}#sk-container-id-2 div.sk-parallel-item:only-child::after {width: 0;}#sk-container-id-2 div.sk-dashed-wrapped {border: 1px dashed gray;margin: 0 0.4em 0.5em 0.4em;box-sizing: border-box;padding-bottom: 0.4em;background-color: white;}#sk-container-id-2 div.sk-label label {font-family: monospace;font-weight: bold;display: inline-block;line-height: 1.2em;}#sk-container-id-2 div.sk-label-container {text-align: center;}#sk-container-id-2 div.sk-container {/* jupyter's `normalize.less` sets `[hidden] { display: none; }` but bootstrap.min.css set `[hidden] { display: none !important; }` so we also need the `!important` here to be able to override the default hidden behavior on the sphinx rendered scikit-learn.org. See: https://github.com/scikit-learn/scikit-learn/issues/21755 */display: inline-block !important;position: relative;}#sk-container-id-2 div.sk-text-repr-fallback {display: none;}</style><div id=\"sk-container-id-2\" class=\"sk-top-container\"><div class=\"sk-text-repr-fallback\"><pre>XGBClassifier(base_score=None, booster=None, callbacks=None,\n",
       "              colsample_bylevel=None, colsample_bynode=None,\n",
       "              colsample_bytree=None, early_stopping_rounds=None,\n",
       "              enable_categorical=False, eval_metric=None, feature_types=None,\n",
       "              gamma=None, gpu_id=None, grow_policy=None, importance_type=None,\n",
       "              interaction_constraints=None, learning_rate=None, max_bin=None,\n",
       "              max_cat_threshold=None, max_cat_to_onehot=None,\n",
       "              max_delta_step=None, max_depth=None, max_leaves=None,\n",
       "              min_child_weight=None, missing=nan, monotone_constraints=None,\n",
       "              n_estimators=100, n_jobs=None, num_parallel_tree=None,\n",
       "              predictor=None, random_state=None, ...)</pre><b>In a Jupyter environment, please rerun this cell to show the HTML representation or trust the notebook. <br />On GitHub, the HTML representation is unable to render, please try loading this page with nbviewer.org.</b></div><div class=\"sk-container\" hidden><div class=\"sk-item\"><div class=\"sk-estimator sk-toggleable\"><input class=\"sk-toggleable__control sk-hidden--visually\" id=\"sk-estimator-id-2\" type=\"checkbox\" checked><label for=\"sk-estimator-id-2\" class=\"sk-toggleable__label sk-toggleable__label-arrow\">XGBClassifier</label><div class=\"sk-toggleable__content\"><pre>XGBClassifier(base_score=None, booster=None, callbacks=None,\n",
       "              colsample_bylevel=None, colsample_bynode=None,\n",
       "              colsample_bytree=None, early_stopping_rounds=None,\n",
       "              enable_categorical=False, eval_metric=None, feature_types=None,\n",
       "              gamma=None, gpu_id=None, grow_policy=None, importance_type=None,\n",
       "              interaction_constraints=None, learning_rate=None, max_bin=None,\n",
       "              max_cat_threshold=None, max_cat_to_onehot=None,\n",
       "              max_delta_step=None, max_depth=None, max_leaves=None,\n",
       "              min_child_weight=None, missing=nan, monotone_constraints=None,\n",
       "              n_estimators=100, n_jobs=None, num_parallel_tree=None,\n",
       "              predictor=None, random_state=None, ...)</pre></div></div></div></div></div>"
      ],
      "text/plain": [
       "XGBClassifier(base_score=None, booster=None, callbacks=None,\n",
       "              colsample_bylevel=None, colsample_bynode=None,\n",
       "              colsample_bytree=None, early_stopping_rounds=None,\n",
       "              enable_categorical=False, eval_metric=None, feature_types=None,\n",
       "              gamma=None, gpu_id=None, grow_policy=None, importance_type=None,\n",
       "              interaction_constraints=None, learning_rate=None, max_bin=None,\n",
       "              max_cat_threshold=None, max_cat_to_onehot=None,\n",
       "              max_delta_step=None, max_depth=None, max_leaves=None,\n",
       "              min_child_weight=None, missing=nan, monotone_constraints=None,\n",
       "              n_estimators=100, n_jobs=None, num_parallel_tree=None,\n",
       "              predictor=None, random_state=None, ...)"
      ]
     },
     "execution_count": 47,
     "metadata": {},
     "output_type": "execute_result"
    }
   ],
   "source": [
    "xgb.fit(X_train, y_train)"
   ]
  },
  {
   "cell_type": "code",
   "execution_count": 48,
   "id": "66e279ce",
   "metadata": {},
   "outputs": [
    {
     "data": {
      "text/plain": [
       "0.999625"
      ]
     },
     "execution_count": 48,
     "metadata": {},
     "output_type": "execute_result"
    }
   ],
   "source": [
    "y_pred1 = xgb.predict(X_test)\n",
    "accuracy_score(y_test, y_pred1)"
   ]
  },
  {
   "cell_type": "code",
   "execution_count": 49,
   "id": "eecfc98b",
   "metadata": {},
   "outputs": [
    {
     "data": {
      "text/plain": [
       "array([[7994,    1],\n",
       "       [   2,    3]], dtype=int64)"
      ]
     },
     "execution_count": 49,
     "metadata": {},
     "output_type": "execute_result"
    }
   ],
   "source": [
    "confusion_matrix(y_test, y_pred1)"
   ]
  },
  {
   "cell_type": "code",
   "execution_count": 50,
   "id": "1e72a2ec",
   "metadata": {},
   "outputs": [
    {
     "name": "stdout",
     "output_type": "stream",
     "text": [
      "              precision    recall  f1-score   support\n",
      "\n",
      "           0       1.00      1.00      1.00      7995\n",
      "           1       0.75      0.60      0.67         5\n",
      "\n",
      "    accuracy                           1.00      8000\n",
      "   macro avg       0.87      0.80      0.83      8000\n",
      "weighted avg       1.00      1.00      1.00      8000\n",
      "\n"
     ]
    }
   ],
   "source": [
    "print(classification_report(y_test, y_pred1))"
   ]
  },
  {
   "cell_type": "code",
   "execution_count": null,
   "id": "4512664b",
   "metadata": {},
   "outputs": [],
   "source": []
  }
 ],
 "metadata": {
  "kernelspec": {
   "display_name": "Python 3 (ipykernel)",
   "language": "python",
   "name": "python3"
  },
  "language_info": {
   "codemirror_mode": {
    "name": "ipython",
    "version": 3
   },
   "file_extension": ".py",
   "mimetype": "text/x-python",
   "name": "python",
   "nbconvert_exporter": "python",
   "pygments_lexer": "ipython3",
   "version": "3.11.3"
  }
 },
 "nbformat": 4,
 "nbformat_minor": 5
}
